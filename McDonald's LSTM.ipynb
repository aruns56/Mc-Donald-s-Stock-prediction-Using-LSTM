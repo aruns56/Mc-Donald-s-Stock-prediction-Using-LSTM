{
 "cells": [
  {
   "cell_type": "code",
   "execution_count": 2,
   "id": "finite-fishing",
   "metadata": {},
   "outputs": [],
   "source": [
    "import pandas as pd\n",
    "import numpy as np\n",
    "import yfinance\n",
    "import seaborn as sns\n",
    "import matplotlib.pyplot as plt\n",
    "import warnings\n",
    "warnings.filterwarnings('ignore')"
   ]
  },
  {
   "cell_type": "markdown",
   "id": "decimal-bidding",
   "metadata": {},
   "source": [
    "# Data Preprocessing"
   ]
  },
  {
   "cell_type": "code",
   "execution_count": 3,
   "id": "verbal-strategy",
   "metadata": {},
   "outputs": [],
   "source": [
    "import os\n",
    "os.chdir(\"C:\\\\Users\\\\arun\\\\Downloads\")"
   ]
  },
  {
   "cell_type": "code",
   "execution_count": 21,
   "id": "deluxe-hunter",
   "metadata": {},
   "outputs": [],
   "source": [
    "data=pd.read_csv('MCD.csv')"
   ]
  },
  {
   "cell_type": "code",
   "execution_count": 93,
   "id": "fatal-definition",
   "metadata": {
    "scrolled": true
   },
   "outputs": [
    {
     "data": {
      "text/html": [
       "<div>\n",
       "<style scoped>\n",
       "    .dataframe tbody tr th:only-of-type {\n",
       "        vertical-align: middle;\n",
       "    }\n",
       "\n",
       "    .dataframe tbody tr th {\n",
       "        vertical-align: top;\n",
       "    }\n",
       "\n",
       "    .dataframe thead th {\n",
       "        text-align: right;\n",
       "    }\n",
       "</style>\n",
       "<table border=\"1\" class=\"dataframe\">\n",
       "  <thead>\n",
       "    <tr style=\"text-align: right;\">\n",
       "      <th></th>\n",
       "      <th>Date</th>\n",
       "      <th>Open</th>\n",
       "      <th>High</th>\n",
       "      <th>Low</th>\n",
       "      <th>Close</th>\n",
       "      <th>Adj Close</th>\n",
       "      <th>Volume</th>\n",
       "    </tr>\n",
       "  </thead>\n",
       "  <tbody>\n",
       "    <tr>\n",
       "      <th>0</th>\n",
       "      <td>2010-03-30</td>\n",
       "      <td>67.110001</td>\n",
       "      <td>67.489998</td>\n",
       "      <td>66.919998</td>\n",
       "      <td>67.239998</td>\n",
       "      <td>48.806473</td>\n",
       "      <td>5093500</td>\n",
       "    </tr>\n",
       "    <tr>\n",
       "      <th>1</th>\n",
       "      <td>2010-03-31</td>\n",
       "      <td>67.150002</td>\n",
       "      <td>67.389999</td>\n",
       "      <td>66.629997</td>\n",
       "      <td>66.720001</td>\n",
       "      <td>48.429031</td>\n",
       "      <td>5765600</td>\n",
       "    </tr>\n",
       "    <tr>\n",
       "      <th>2</th>\n",
       "      <td>2010-04-01</td>\n",
       "      <td>67.059998</td>\n",
       "      <td>67.709999</td>\n",
       "      <td>67.059998</td>\n",
       "      <td>67.580002</td>\n",
       "      <td>49.053249</td>\n",
       "      <td>5474200</td>\n",
       "    </tr>\n",
       "    <tr>\n",
       "      <th>3</th>\n",
       "      <td>2010-04-05</td>\n",
       "      <td>67.760002</td>\n",
       "      <td>68.199997</td>\n",
       "      <td>67.760002</td>\n",
       "      <td>68.029999</td>\n",
       "      <td>49.379875</td>\n",
       "      <td>4875200</td>\n",
       "    </tr>\n",
       "    <tr>\n",
       "      <th>4</th>\n",
       "      <td>2010-04-06</td>\n",
       "      <td>67.769997</td>\n",
       "      <td>67.959999</td>\n",
       "      <td>67.650002</td>\n",
       "      <td>67.809998</td>\n",
       "      <td>49.220203</td>\n",
       "      <td>3318300</td>\n",
       "    </tr>\n",
       "    <tr>\n",
       "      <th>...</th>\n",
       "      <td>...</td>\n",
       "      <td>...</td>\n",
       "      <td>...</td>\n",
       "      <td>...</td>\n",
       "      <td>...</td>\n",
       "      <td>...</td>\n",
       "      <td>...</td>\n",
       "    </tr>\n",
       "    <tr>\n",
       "      <th>2764</th>\n",
       "      <td>2021-03-23</td>\n",
       "      <td>223.960007</td>\n",
       "      <td>226.399994</td>\n",
       "      <td>223.750000</td>\n",
       "      <td>224.369995</td>\n",
       "      <td>224.369995</td>\n",
       "      <td>2794000</td>\n",
       "    </tr>\n",
       "    <tr>\n",
       "      <th>2765</th>\n",
       "      <td>2021-03-24</td>\n",
       "      <td>225.320007</td>\n",
       "      <td>227.020004</td>\n",
       "      <td>224.039993</td>\n",
       "      <td>224.050003</td>\n",
       "      <td>224.050003</td>\n",
       "      <td>2442500</td>\n",
       "    </tr>\n",
       "    <tr>\n",
       "      <th>2766</th>\n",
       "      <td>2021-03-25</td>\n",
       "      <td>225.149994</td>\n",
       "      <td>225.320007</td>\n",
       "      <td>222.440002</td>\n",
       "      <td>224.199997</td>\n",
       "      <td>224.199997</td>\n",
       "      <td>3249600</td>\n",
       "    </tr>\n",
       "    <tr>\n",
       "      <th>2767</th>\n",
       "      <td>2021-03-26</td>\n",
       "      <td>224.199997</td>\n",
       "      <td>225.279999</td>\n",
       "      <td>222.419998</td>\n",
       "      <td>225.210007</td>\n",
       "      <td>225.210007</td>\n",
       "      <td>3263100</td>\n",
       "    </tr>\n",
       "    <tr>\n",
       "      <th>2768</th>\n",
       "      <td>2021-03-29</td>\n",
       "      <td>224.830002</td>\n",
       "      <td>227.875000</td>\n",
       "      <td>224.300003</td>\n",
       "      <td>227.350006</td>\n",
       "      <td>227.350006</td>\n",
       "      <td>3383143</td>\n",
       "    </tr>\n",
       "  </tbody>\n",
       "</table>\n",
       "<p>2769 rows × 7 columns</p>\n",
       "</div>"
      ],
      "text/plain": [
       "            Date        Open        High         Low       Close   Adj Close  \\\n",
       "0     2010-03-30   67.110001   67.489998   66.919998   67.239998   48.806473   \n",
       "1     2010-03-31   67.150002   67.389999   66.629997   66.720001   48.429031   \n",
       "2     2010-04-01   67.059998   67.709999   67.059998   67.580002   49.053249   \n",
       "3     2010-04-05   67.760002   68.199997   67.760002   68.029999   49.379875   \n",
       "4     2010-04-06   67.769997   67.959999   67.650002   67.809998   49.220203   \n",
       "...          ...         ...         ...         ...         ...         ...   \n",
       "2764  2021-03-23  223.960007  226.399994  223.750000  224.369995  224.369995   \n",
       "2765  2021-03-24  225.320007  227.020004  224.039993  224.050003  224.050003   \n",
       "2766  2021-03-25  225.149994  225.320007  222.440002  224.199997  224.199997   \n",
       "2767  2021-03-26  224.199997  225.279999  222.419998  225.210007  225.210007   \n",
       "2768  2021-03-29  224.830002  227.875000  224.300003  227.350006  227.350006   \n",
       "\n",
       "       Volume  \n",
       "0     5093500  \n",
       "1     5765600  \n",
       "2     5474200  \n",
       "3     4875200  \n",
       "4     3318300  \n",
       "...       ...  \n",
       "2764  2794000  \n",
       "2765  2442500  \n",
       "2766  3249600  \n",
       "2767  3263100  \n",
       "2768  3383143  \n",
       "\n",
       "[2769 rows x 7 columns]"
      ]
     },
     "execution_count": 93,
     "metadata": {},
     "output_type": "execute_result"
    }
   ],
   "source": [
    "data"
   ]
  },
  {
   "cell_type": "code",
   "execution_count": 54,
   "id": "weekly-penetration",
   "metadata": {},
   "outputs": [],
   "source": [
    "train_data=data.iloc[:,1:5]"
   ]
  },
  {
   "cell_type": "markdown",
   "id": "israeli-point",
   "metadata": {},
   "source": [
    "#"
   ]
  },
  {
   "cell_type": "code",
   "execution_count": 55,
   "id": "waiting-atmosphere",
   "metadata": {},
   "outputs": [
    {
     "data": {
      "text/html": [
       "<div>\n",
       "<style scoped>\n",
       "    .dataframe tbody tr th:only-of-type {\n",
       "        vertical-align: middle;\n",
       "    }\n",
       "\n",
       "    .dataframe tbody tr th {\n",
       "        vertical-align: top;\n",
       "    }\n",
       "\n",
       "    .dataframe thead th {\n",
       "        text-align: right;\n",
       "    }\n",
       "</style>\n",
       "<table border=\"1\" class=\"dataframe\">\n",
       "  <thead>\n",
       "    <tr style=\"text-align: right;\">\n",
       "      <th></th>\n",
       "      <th>Open</th>\n",
       "      <th>High</th>\n",
       "      <th>Low</th>\n",
       "      <th>Close</th>\n",
       "    </tr>\n",
       "  </thead>\n",
       "  <tbody>\n",
       "    <tr>\n",
       "      <th>0</th>\n",
       "      <td>67.110001</td>\n",
       "      <td>67.489998</td>\n",
       "      <td>66.919998</td>\n",
       "      <td>67.239998</td>\n",
       "    </tr>\n",
       "    <tr>\n",
       "      <th>1</th>\n",
       "      <td>67.150002</td>\n",
       "      <td>67.389999</td>\n",
       "      <td>66.629997</td>\n",
       "      <td>66.720001</td>\n",
       "    </tr>\n",
       "    <tr>\n",
       "      <th>2</th>\n",
       "      <td>67.059998</td>\n",
       "      <td>67.709999</td>\n",
       "      <td>67.059998</td>\n",
       "      <td>67.580002</td>\n",
       "    </tr>\n",
       "    <tr>\n",
       "      <th>3</th>\n",
       "      <td>67.760002</td>\n",
       "      <td>68.199997</td>\n",
       "      <td>67.760002</td>\n",
       "      <td>68.029999</td>\n",
       "    </tr>\n",
       "    <tr>\n",
       "      <th>4</th>\n",
       "      <td>67.769997</td>\n",
       "      <td>67.959999</td>\n",
       "      <td>67.650002</td>\n",
       "      <td>67.809998</td>\n",
       "    </tr>\n",
       "    <tr>\n",
       "      <th>...</th>\n",
       "      <td>...</td>\n",
       "      <td>...</td>\n",
       "      <td>...</td>\n",
       "      <td>...</td>\n",
       "    </tr>\n",
       "    <tr>\n",
       "      <th>2764</th>\n",
       "      <td>223.960007</td>\n",
       "      <td>226.399994</td>\n",
       "      <td>223.750000</td>\n",
       "      <td>224.369995</td>\n",
       "    </tr>\n",
       "    <tr>\n",
       "      <th>2765</th>\n",
       "      <td>225.320007</td>\n",
       "      <td>227.020004</td>\n",
       "      <td>224.039993</td>\n",
       "      <td>224.050003</td>\n",
       "    </tr>\n",
       "    <tr>\n",
       "      <th>2766</th>\n",
       "      <td>225.149994</td>\n",
       "      <td>225.320007</td>\n",
       "      <td>222.440002</td>\n",
       "      <td>224.199997</td>\n",
       "    </tr>\n",
       "    <tr>\n",
       "      <th>2767</th>\n",
       "      <td>224.199997</td>\n",
       "      <td>225.279999</td>\n",
       "      <td>222.419998</td>\n",
       "      <td>225.210007</td>\n",
       "    </tr>\n",
       "    <tr>\n",
       "      <th>2768</th>\n",
       "      <td>224.830002</td>\n",
       "      <td>227.875000</td>\n",
       "      <td>224.300003</td>\n",
       "      <td>227.350006</td>\n",
       "    </tr>\n",
       "  </tbody>\n",
       "</table>\n",
       "<p>2769 rows × 4 columns</p>\n",
       "</div>"
      ],
      "text/plain": [
       "            Open        High         Low       Close\n",
       "0      67.110001   67.489998   66.919998   67.239998\n",
       "1      67.150002   67.389999   66.629997   66.720001\n",
       "2      67.059998   67.709999   67.059998   67.580002\n",
       "3      67.760002   68.199997   67.760002   68.029999\n",
       "4      67.769997   67.959999   67.650002   67.809998\n",
       "...          ...         ...         ...         ...\n",
       "2764  223.960007  226.399994  223.750000  224.369995\n",
       "2765  225.320007  227.020004  224.039993  224.050003\n",
       "2766  225.149994  225.320007  222.440002  224.199997\n",
       "2767  224.199997  225.279999  222.419998  225.210007\n",
       "2768  224.830002  227.875000  224.300003  227.350006\n",
       "\n",
       "[2769 rows x 4 columns]"
      ]
     },
     "execution_count": 55,
     "metadata": {},
     "output_type": "execute_result"
    }
   ],
   "source": [
    "train_data"
   ]
  },
  {
   "cell_type": "code",
   "execution_count": 56,
   "id": "liberal-confidentiality",
   "metadata": {},
   "outputs": [
    {
     "data": {
      "text/plain": [
       "<AxesSubplot:>"
      ]
     },
     "execution_count": 56,
     "metadata": {},
     "output_type": "execute_result"
    },
    {
     "data": {
      "image/png": "[encoded data removed]",
      "text/plain": [
       "<Figure size 432x288 with 1 Axes>"
      ]
     },
     "metadata": {
      "needs_background": "light"
     },
     "output_type": "display_data"
    }
   ],
   "source": [
    "train_data.plot()"
   ]
  },
  {
   "cell_type": "code",
   "execution_count": 57,
   "id": "potential-performance",
   "metadata": {},
   "outputs": [],
   "source": [
    "from sklearn.preprocessing import MinMaxScaler"
   ]
  },
  {
   "cell_type": "code",
   "execution_count": 58,
   "id": "cleared-sacrifice",
   "metadata": {},
   "outputs": [],
   "source": [
    "scale=MinMaxScaler()"
   ]
  },
  {
   "cell_type": "code",
   "execution_count": 59,
   "id": "korean-newton",
   "metadata": {},
   "outputs": [],
   "source": [
    "df=scale.fit_transform(train_data)"
   ]
  },
  {
   "cell_type": "code",
   "execution_count": 60,
   "id": "recent-wayne",
   "metadata": {},
   "outputs": [
    {
     "data": {
      "text/plain": [
       "array([[0.00620743, 0.00423932, 0.00982666, 0.00836536],\n",
       "       [0.00645086, 0.00363371, 0.00805663, 0.00519019],\n",
       "       [0.00590313, 0.00557169, 0.01068115, 0.01044147],\n",
       "       ...,\n",
       "       [0.96798923, 0.96008965, 0.95904546, 0.96678267],\n",
       "       [0.96220785, 0.95984735, 0.95892336, 0.97294992],\n",
       "       [0.96604186, 0.9755632 , 0.970398  , 0.98601702]])"
      ]
     },
     "execution_count": 60,
     "metadata": {},
     "output_type": "execute_result"
    }
   ],
   "source": [
    "df"
   ]
  },
  {
   "cell_type": "code",
   "execution_count": 64,
   "id": "worthy-saudi",
   "metadata": {},
   "outputs": [
    {
     "data": {
      "text/plain": [
       "(2769, 4)"
      ]
     },
     "execution_count": 64,
     "metadata": {},
     "output_type": "execute_result"
    }
   ],
   "source": [
    "train_data.shape"
   ]
  },
  {
   "cell_type": "code",
   "execution_count": 65,
   "id": "smaller-pearl",
   "metadata": {},
   "outputs": [
    {
     "data": {
      "text/plain": [
       "pandas.core.frame.DataFrame"
      ]
     },
     "execution_count": 65,
     "metadata": {},
     "output_type": "execute_result"
    }
   ],
   "source": [
    "type(train_data)"
   ]
  },
  {
   "cell_type": "code",
   "execution_count": 69,
   "id": "planned-release",
   "metadata": {},
   "outputs": [
    {
     "data": {
      "text/plain": [
       "(2769, 4)"
      ]
     },
     "execution_count": 69,
     "metadata": {},
     "output_type": "execute_result"
    }
   ],
   "source": [
    "train_data.shape"
   ]
  },
  {
   "cell_type": "code",
   "execution_count": 71,
   "id": "photographic-glory",
   "metadata": {},
   "outputs": [],
   "source": [
    "x_train = []\n",
    "y_train = []\n",
    "\n",
    "for i in range(60, 2769):\n",
    "  x_train.append(df[i-60:i, 0])\n",
    "  y_train.append(df[i, 0])\n",
    "\n",
    "# converting x_train and y_train into numpy array\n",
    "x_train, y_train = np.array(x_train), np.array(y_train)"
   ]
  },
  {
   "cell_type": "code",
   "execution_count": 72,
   "id": "southeast-cement",
   "metadata": {},
   "outputs": [
    {
     "data": {
      "text/plain": [
       "array([[0.00620743, 0.00645086, 0.00590313, ..., 0.02543817, 0.02385593,\n",
       "        0.01661395],\n",
       "       [0.00645086, 0.00590313, 0.01016313, ..., 0.02385593, 0.01661395,\n",
       "        0.01424053],\n",
       "       [0.00590313, 0.01016313, 0.01022396, ..., 0.01661395, 0.01424053,\n",
       "        0.00985883],\n",
       "       ...,\n",
       "       [0.89398735, 0.9040287 , 0.89380479, ..., 0.95727845, 0.96074734,\n",
       "        0.96902388],\n",
       "       [0.9040287 , 0.89380479, 0.88339823, ..., 0.96074734, 0.96902388,\n",
       "        0.96798923],\n",
       "       [0.89380479, 0.88339823, 0.90311588, ..., 0.96902388, 0.96798923,\n",
       "        0.96220785]])"
      ]
     },
     "execution_count": 72,
     "metadata": {},
     "output_type": "execute_result"
    }
   ],
   "source": [
    "x_train"
   ]
  },
  {
   "cell_type": "code",
   "execution_count": 74,
   "id": "greatest-equivalent",
   "metadata": {},
   "outputs": [],
   "source": [
    "x_test = []\n",
    "y_test = []\n",
    "\n",
    "for i in range(60, 1000):\n",
    "  x_test.append(df[i-60:i, 0])\n",
    "  y_test.append(df[i, 0])\n",
    "\n",
    "# converting x_train and y_train into numpy array\n",
    "x_test, y_test = np.array(x_train), np.array(y_train)"
   ]
  },
  {
   "cell_type": "code",
   "execution_count": 76,
   "id": "demonstrated-arizona",
   "metadata": {},
   "outputs": [
    {
     "data": {
      "text/plain": [
       "(2709, 60)"
      ]
     },
     "execution_count": 76,
     "metadata": {},
     "output_type": "execute_result"
    }
   ],
   "source": [
    "x_train.shape"
   ]
  },
  {
   "cell_type": "code",
   "execution_count": 77,
   "id": "outstanding-tumor",
   "metadata": {},
   "outputs": [],
   "source": [
    "# reshaping dataset\n",
    "x_train = x_train.reshape(2709, 60, 1)"
   ]
  },
  {
   "cell_type": "markdown",
   "id": "catholic-glass",
   "metadata": {},
   "source": [
    "# Building LSTM Model"
   ]
  },
  {
   "cell_type": "code",
   "execution_count": 78,
   "id": "latin-fisher",
   "metadata": {},
   "outputs": [],
   "source": [
    "model = tf.keras.models.Sequential()"
   ]
  },
  {
   "cell_type": "code",
   "execution_count": 79,
   "id": "upset-forty",
   "metadata": {},
   "outputs": [],
   "source": [
    "# first LSTM layer\n",
    "model.add(tf.keras.layers.LSTM(units=60, activation='relu', return_sequences=True, input_shape=(60,1)))\n",
    "# dropout layer\n",
    "model.add(tf.keras.layers.Dropout(0.2))\n",
    "\n",
    "# second LSTM layer\n",
    "model.add(tf.keras.layers.LSTM(units=60, activation='relu', return_sequences=True))\n",
    "# dropout layer\n",
    "model.add(tf.keras.layers.Dropout(0.2))\n",
    "\n",
    "# third LSTM layer\n",
    "model.add(tf.keras.layers.LSTM(units=80, activation='relu', return_sequences=True))\n",
    "# dropout layer\n",
    "model.add(tf.keras.layers.Dropout(0.2))\n",
    "\n",
    "# fourth LSTM layer\n",
    "model.add(tf.keras.layers.LSTM(units=120, activation='relu'))\n",
    "# dropout layer\n",
    "model.add(tf.keras.layers.Dropout(0.2))"
   ]
  },
  {
   "cell_type": "code",
   "execution_count": 80,
   "id": "present-minute",
   "metadata": {},
   "outputs": [],
   "source": [
    "\n",
    "# output layer\n",
    "model.add(tf.keras.layers.Dense(units=1))"
   ]
  },
  {
   "cell_type": "code",
   "execution_count": 81,
   "id": "driving-korea",
   "metadata": {},
   "outputs": [],
   "source": [
    "model.compile(optimizer='adam', loss='mean_squared_error')"
   ]
  },
  {
   "cell_type": "markdown",
   "id": "unsigned-combat",
   "metadata": {},
   "source": [
    "# Training The LSTM Model "
   ]
  },
  {
   "cell_type": "code",
   "execution_count": 82,
   "id": "excited-forge",
   "metadata": {},
   "outputs": [
    {
     "name": "stdout",
     "output_type": "stream",
     "text": [
      "Epoch 1/100\n",
      "85/85 [==============================] - 27s 138ms/step - loss: 0.0709\n",
      "Epoch 2/100\n",
      "85/85 [==============================] - 12s 140ms/step - loss: 0.0036\n",
      "Epoch 3/100\n",
      "85/85 [==============================] - 12s 140ms/step - loss: 0.0030\n",
      "Epoch 4/100\n",
      "85/85 [==============================] - 12s 143ms/step - loss: 0.0030\n",
      "Epoch 5/100\n",
      "85/85 [==============================] - 12s 142ms/step - loss: 0.0033\n",
      "Epoch 6/100\n",
      "85/85 [==============================] - 14s 163ms/step - loss: 0.00291s -\n",
      "Epoch 7/100\n",
      "85/85 [==============================] - 12s 139ms/step - loss: 0.0025\n",
      "Epoch 8/100\n",
      "85/85 [==============================] - 12s 142ms/step - loss: 0.0027\n",
      "Epoch 9/100\n",
      "85/85 [==============================] - 12s 145ms/step - loss: 0.0022\n",
      "Epoch 10/100\n",
      "85/85 [==============================] - 12s 141ms/step - loss: 0.0024\n",
      "Epoch 11/100\n",
      "85/85 [==============================] - 12s 142ms/step - loss: 0.0023\n",
      "Epoch 12/100\n",
      "85/85 [==============================] - 14s 161ms/step - loss: 0.0026\n",
      "Epoch 13/100\n",
      "85/85 [==============================] - 14s 166ms/step - loss: 0.0023\n",
      "Epoch 14/100\n",
      "85/85 [==============================] - 14s 170ms/step - loss: 0.0022\n",
      "Epoch 15/100\n",
      "85/85 [==============================] - 12s 139ms/step - loss: 0.0023\n",
      "Epoch 16/100\n",
      "85/85 [==============================] - 12s 146ms/step - loss: 0.0021\n",
      "Epoch 17/100\n",
      "85/85 [==============================] - 12s 143ms/step - loss: 0.0020\n",
      "Epoch 18/100\n",
      "85/85 [==============================] - 13s 152ms/step - loss: 0.0019\n",
      "Epoch 19/100\n",
      "85/85 [==============================] - 12s 147ms/step - loss: 0.0016\n",
      "Epoch 20/100\n",
      "85/85 [==============================] - 13s 147ms/step - loss: 0.0016\n",
      "Epoch 21/100\n",
      "85/85 [==============================] - 13s 156ms/step - loss: 0.0021\n",
      "Epoch 22/100\n",
      "85/85 [==============================] - 12s 142ms/step - loss: 0.0017\n",
      "Epoch 23/100\n",
      "85/85 [==============================] - 12s 142ms/step - loss: 0.0017\n",
      "Epoch 24/100\n",
      "85/85 [==============================] - 12s 142ms/step - loss: 0.0015\n",
      "Epoch 25/100\n",
      "85/85 [==============================] - 12s 143ms/step - loss: 0.0016\n",
      "Epoch 26/100\n",
      "85/85 [==============================] - 14s 170ms/step - loss: 0.0016\n",
      "Epoch 27/100\n",
      "85/85 [==============================] - 20s 232ms/step - loss: 0.0014\n",
      "Epoch 28/100\n",
      "85/85 [==============================] - 14s 166ms/step - loss: 0.0016\n",
      "Epoch 29/100\n",
      "85/85 [==============================] - 13s 152ms/step - loss: 0.0013\n",
      "Epoch 30/100\n",
      "85/85 [==============================] - 13s 148ms/step - loss: 0.0015\n",
      "Epoch 31/100\n",
      "85/85 [==============================] - 13s 149ms/step - loss: 0.0015\n",
      "Epoch 32/100\n",
      "85/85 [==============================] - 18s 216ms/step - loss: 0.0014\n",
      "Epoch 33/100\n",
      "85/85 [==============================] - 20s 232ms/step - loss: 0.0013\n",
      "Epoch 34/100\n",
      "85/85 [==============================] - 15s 181ms/step - loss: 0.0015\n",
      "Epoch 35/100\n",
      "85/85 [==============================] - 15s 175ms/step - loss: 0.0013\n",
      "Epoch 36/100\n",
      "85/85 [==============================] - 15s 178ms/step - loss: 0.0015\n",
      "Epoch 37/100\n",
      "85/85 [==============================] - 13s 157ms/step - loss: 0.0015\n",
      "Epoch 38/100\n",
      "85/85 [==============================] - 15s 178ms/step - loss: 0.0015\n",
      "Epoch 39/100\n",
      "85/85 [==============================] - 13s 155ms/step - loss: 0.0011\n",
      "Epoch 40/100\n",
      "85/85 [==============================] - 19s 223ms/step - loss: 0.0011\n",
      "Epoch 41/100\n",
      "85/85 [==============================] - 16s 185ms/step - loss: 0.0010\n",
      "Epoch 42/100\n",
      "85/85 [==============================] - 18s 213ms/step - loss: 0.0012\n",
      "Epoch 43/100\n",
      "85/85 [==============================] - 16s 187ms/step - loss: 0.0013\n",
      "Epoch 44/100\n",
      "85/85 [==============================] - 17s 203ms/step - loss: 0.0013\n",
      "Epoch 45/100\n",
      "85/85 [==============================] - 17s 198ms/step - loss: 0.0010\n",
      "Epoch 46/100\n",
      "85/85 [==============================] - 17s 198ms/step - loss: 0.0011\n",
      "Epoch 47/100\n",
      "85/85 [==============================] - 13s 148ms/step - loss: 0.0012\n",
      "Epoch 48/100\n",
      "85/85 [==============================] - 15s 178ms/step - loss: 9.7378e-04\n",
      "Epoch 49/100\n",
      "85/85 [==============================] - 13s 157ms/step - loss: 0.0012\n",
      "Epoch 50/100\n",
      "85/85 [==============================] - 14s 166ms/step - loss: 0.0011\n",
      "Epoch 51/100\n",
      "85/85 [==============================] - 13s 155ms/step - loss: 0.0011\n",
      "Epoch 52/100\n",
      "85/85 [==============================] - 14s 164ms/step - loss: 0.0010\n",
      "Epoch 53/100\n",
      "85/85 [==============================] - 12s 146ms/step - loss: 0.0011\n",
      "Epoch 54/100\n",
      "85/85 [==============================] - 15s 176ms/step - loss: 0.0012\n",
      "Epoch 55/100\n",
      "85/85 [==============================] - 13s 156ms/step - loss: 0.0011\n",
      "Epoch 56/100\n",
      "85/85 [==============================] - 13s 149ms/step - loss: 9.9885e-04\n",
      "Epoch 57/100\n",
      "85/85 [==============================] - 12s 136ms/step - loss: 0.0012\n",
      "Epoch 58/100\n",
      "85/85 [==============================] - 12s 145ms/step - loss: 0.0011\n",
      "Epoch 59/100\n",
      "85/85 [==============================] - 12s 145ms/step - loss: 0.0011\n",
      "Epoch 60/100\n",
      "85/85 [==============================] - 13s 159ms/step - loss: 0.0012\n",
      "Epoch 61/100\n",
      "85/85 [==============================] - 14s 161ms/step - loss: 9.9163e-04\n",
      "Epoch 62/100\n",
      "85/85 [==============================] - 13s 150ms/step - loss: 0.0010\n",
      "Epoch 63/100\n",
      "85/85 [==============================] - 12s 144ms/step - loss: 9.9143e-04\n",
      "Epoch 64/100\n",
      "85/85 [==============================] - 12s 146ms/step - loss: 0.0012\n",
      "Epoch 65/100\n",
      "85/85 [==============================] - 13s 154ms/step - loss: 0.0010\n",
      "Epoch 66/100\n",
      "85/85 [==============================] - 17s 196ms/step - loss: 0.0010\n",
      "Epoch 67/100\n",
      "85/85 [==============================] - 18s 208ms/step - loss: 9.7541e-04\n",
      "Epoch 68/100\n",
      "85/85 [==============================] - 20s 232ms/step - loss: 0.0012\n",
      "Epoch 69/100\n",
      "85/85 [==============================] - 17s 202ms/step - loss: 9.2727e-04\n",
      "Epoch 70/100\n",
      "85/85 [==============================] - 11s 134ms/step - loss: 8.9378e-04\n",
      "Epoch 71/100\n",
      "85/85 [==============================] - 12s 136ms/step - loss: 0.0011\n",
      "Epoch 72/100\n",
      "85/85 [==============================] - 11s 135ms/step - loss: 8.5734e-04\n",
      "Epoch 73/100\n",
      "85/85 [==============================] - 11s 134ms/step - loss: 8.3160e-04\n",
      "Epoch 74/100\n",
      "85/85 [==============================] - 12s 139ms/step - loss: 9.4357e-04\n",
      "Epoch 75/100\n",
      "85/85 [==============================] - 14s 159ms/step - loss: 0.0010\n",
      "Epoch 76/100\n",
      "85/85 [==============================] - 15s 181ms/step - loss: 9.0052e-04\n",
      "Epoch 77/100\n",
      "85/85 [==============================] - 22s 263ms/step - loss: 8.6492e-04\n",
      "Epoch 78/100\n",
      "85/85 [==============================] - 14s 161ms/step - loss: 9.6947e-04\n",
      "Epoch 79/100\n",
      "85/85 [==============================] - 14s 168ms/step - loss: 8.9625e-042s - lo\n",
      "Epoch 80/100\n",
      "85/85 [==============================] - 20s 231ms/step - loss: 9.5359e-04\n",
      "Epoch 81/100\n",
      "85/85 [==============================] - 21s 245ms/step - loss: 7.7938e-04\n",
      "Epoch 82/100\n",
      "85/85 [==============================] - 17s 198ms/step - loss: 8.8141e-04\n",
      "Epoch 83/100\n",
      "85/85 [==============================] - 18s 212ms/step - loss: 9.5076e-04\n",
      "Epoch 84/100\n",
      "85/85 [==============================] - 18s 207ms/step - loss: 8.2902e-04\n",
      "Epoch 85/100\n",
      "85/85 [==============================] - 13s 151ms/step - loss: 8.2313e-04\n",
      "Epoch 86/100\n",
      "85/85 [==============================] - 13s 150ms/step - loss: 8.1761e-04\n",
      "Epoch 87/100\n",
      "85/85 [==============================] - 19s 218ms/step - loss: 8.9893e-04\n",
      "Epoch 88/100\n",
      "85/85 [==============================] - 14s 162ms/step - loss: 9.2469e-04\n",
      "Epoch 89/100\n",
      "85/85 [==============================] - 13s 151ms/step - loss: 9.4227e-04\n",
      "Epoch 90/100\n",
      "85/85 [==============================] - 14s 159ms/step - loss: 9.6278e-04\n",
      "Epoch 91/100\n",
      "85/85 [==============================] - 19s 226ms/step - loss: 9.3222e-04\n",
      "Epoch 92/100\n",
      "85/85 [==============================] - 19s 226ms/step - loss: 9.0574e-04\n",
      "Epoch 93/100\n",
      "85/85 [==============================] - 19s 225ms/step - loss: 9.2932e-04\n",
      "Epoch 94/100\n",
      "85/85 [==============================] - 17s 204ms/step - loss: 8.4571e-04\n",
      "Epoch 95/100\n",
      "85/85 [==============================] - 16s 186ms/step - loss: 8.3003e-04\n",
      "Epoch 96/100\n",
      "85/85 [==============================] - 13s 151ms/step - loss: 9.9988e-04\n",
      "Epoch 97/100\n"
     ]
    },
    {
     "name": "stdout",
     "output_type": "stream",
     "text": [
      "85/85 [==============================] - 14s 161ms/step - loss: 0.0010\n",
      "Epoch 98/100\n",
      "85/85 [==============================] - 12s 138ms/step - loss: 9.1090e-04\n",
      "Epoch 99/100\n",
      "85/85 [==============================] - 16s 191ms/step - loss: 0.0010\n",
      "Epoch 100/100\n",
      "85/85 [==============================] - 18s 216ms/step - loss: 8.5440e-04\n"
     ]
    },
    {
     "data": {
      "text/plain": [
       "<tensorflow.python.keras.callbacks.History at 0x15832405580>"
      ]
     },
     "execution_count": 82,
     "metadata": {},
     "output_type": "execute_result"
    }
   ],
   "source": [
    "\n",
    "model.fit(x_train, y_train, batch_size=32, epochs=100)"
   ]
  },
  {
   "cell_type": "code",
   "execution_count": 85,
   "id": "smooth-engineer",
   "metadata": {},
   "outputs": [],
   "source": [
    "x_test = np.reshape(x_test, (x_test.shape[0], x_test.shape[1], 1))"
   ]
  },
  {
   "cell_type": "markdown",
   "id": "private-welcome",
   "metadata": {},
   "source": [
    "# Predictions.."
   ]
  },
  {
   "cell_type": "code",
   "execution_count": 86,
   "id": "excellent-extension",
   "metadata": {},
   "outputs": [],
   "source": [
    "train_predict=model.predict(x_train)\n",
    "test_predict=model.predict(x_test)"
   ]
  },
  {
   "cell_type": "markdown",
   "id": "laughing-locking",
   "metadata": {},
   "source": [
    "# Visualisation "
   ]
  },
  {
   "cell_type": "code",
   "execution_count": 88,
   "id": "liked-standard",
   "metadata": {},
   "outputs": [
    {
     "data": {
      "text/plain": [
       "[<matplotlib.lines.Line2D at 0x15817caf040>]"
      ]
     },
     "execution_count": 88,
     "metadata": {},
     "output_type": "execute_result"
    },
    {
     "data": {
      "image/png": "[encoded data removed]",
      "text/plain": [
       "<Figure size 432x288 with 1 Axes>"
      ]
     },
     "metadata": {
      "needs_background": "light"
     },
     "output_type": "display_data"
    }
   ],
   "source": [
    "plt.plot(test_predict)"
   ]
  },
  {
   "cell_type": "code",
   "execution_count": 92,
   "id": "danish-context",
   "metadata": {
    "scrolled": true
   },
   "outputs": [
    {
     "data": {
      "text/plain": [
       "[<matplotlib.lines.Line2D at 0x1582291cf70>,\n",
       " <matplotlib.lines.Line2D at 0x1581c438220>,\n",
       " <matplotlib.lines.Line2D at 0x1581c4381f0>,\n",
       " <matplotlib.lines.Line2D at 0x1581c4380d0>]"
      ]
     },
     "execution_count": 92,
     "metadata": {},
     "output_type": "execute_result"
    },
    {
     "data": {
      "image/png": "[encoded data removed]",
      "text/plain": [
       "<Figure size 432x288 with 1 Axes>"
      ]
     },
     "metadata": {
      "needs_background": "light"
     },
     "output_type": "display_data"
    }
   ],
   "source": [
    "plt.plot(test_predict)\n",
    "plt.plot(df)"
   ]
  },
  {
   "cell_type": "code",
   "execution_count": 90,
   "id": "automotive-collins",
   "metadata": {},
   "outputs": [],
   "source": [
    "from sklearn.metrics import *"
   ]
  },
  {
   "cell_type": "code",
   "execution_count": 91,
   "id": "paperback-found",
   "metadata": {},
   "outputs": [
    {
     "data": {
      "text/plain": [
       "0.03254227840908398"
      ]
     },
     "execution_count": 91,
     "metadata": {},
     "output_type": "execute_result"
    }
   ],
   "source": [
    "np.sqrt(mean_squared_error(test_predict,y_test))"
   ]
  },
  {
   "cell_type": "code",
   "execution_count": null,
   "id": "sporting-designation",
   "metadata": {},
   "outputs": [],
   "source": []
  }
 ],
 "metadata": {
  "kernelspec": {
   "display_name": "Python 3",
   "language": "python",
   "name": "python3"
  },
  "language_info": {
   "codemirror_mode": {
    "name": "ipython",
    "version": 3
   },
   "file_extension": ".py",
   "mimetype": "text/x-python",
   "name": "python",
   "nbconvert_exporter": "python",
   "pygments_lexer": "ipython3",
   "version": "3.8.8"
  }
 },
 "nbformat": 4,
 "nbformat_minor": 5
}
